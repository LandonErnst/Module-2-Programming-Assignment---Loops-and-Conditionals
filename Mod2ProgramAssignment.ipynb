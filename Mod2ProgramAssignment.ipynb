{
 "cells": [
  {
   "cell_type": "code",
   "execution_count": null,
   "metadata": {},
   "outputs": [
    {
     "name": "stdout",
     "output_type": "stream",
     "text": [
      "too high\n"
     ]
    }
   ],
   "source": [
    "#4.1\n",
    "#Assign numbers between 1-10 to secret and guess\n",
    "secret = 6  \n",
    "guess = 8   \n",
    "\n",
    "#Conditional tests to check the guess\n",
    "if guess < secret:\n",
    "    print('too low')\n",
    "elif guess > secret:\n",
    "    print('too high')\n",
    "else:\n",
    "    print('just right')"
   ]
  },
  {
   "cell_type": "code",
   "execution_count": null,
   "metadata": {},
   "outputs": [
    {
     "name": "stdout",
     "output_type": "stream",
     "text": [
      "cherry\n"
     ]
    }
   ],
   "source": [
    "#4.2\n",
    "#Assign values to small and green\n",
    "small = True   \n",
    "green = False  \n",
    "\n",
    "#Conditional tests to match small and green to a fruit/vegetable\n",
    "if small and green:\n",
    "    print('pea')\n",
    "elif small and not green:\n",
    "    print('cherry')\n",
    "elif not small and green:\n",
    "    print('watermelon')\n",
    "else:\n",
    "    print('pumpkin')\n"
   ]
  },
  {
   "cell_type": "code",
   "execution_count": null,
   "metadata": {},
   "outputs": [
    {
     "name": "stdout",
     "output_type": "stream",
     "text": [
      "3\n",
      "2\n",
      "1\n",
      "0\n"
     ]
    }
   ],
   "source": [
    "#6.1\n",
    "#Use a for loop to print the values of the list [3, 2, 1, 0]\n",
    "numbers = [3, 2, 1, 0]\n",
    "\n",
    "#Loop through the list and print each value\n",
    "for number in numbers:\n",
    "    print(number)\n"
   ]
  },
  {
   "cell_type": "code",
   "execution_count": null,
   "metadata": {},
   "outputs": [
    {
     "name": "stdout",
     "output_type": "stream",
     "text": [
      "too low\n",
      "too low\n",
      "too low\n",
      "too low\n",
      "too low\n",
      "too low\n",
      "found it!\n"
     ]
    }
   ],
   "source": [
    "#6.2\n",
    "#Assign the value 7 to guess_me, and the value 1 to number\n",
    "guess_me = 7\n",
    "number = 1\n",
    "\n",
    "#Use a while loop to compare number with guess_me\n",
    "while number != guess_me:\n",
    "    if number < guess_me:\n",
    "        print('too low')\n",
    "        #Increment number\n",
    "        number += 1  \n",
    "    elif number > guess_me:\n",
    "        print('oops')\n",
    "        #Exit the loop if number is greater than guess_me\n",
    "        break  \n",
    "\n",
    "#If number equals guess_me, print 'found it!' and exit the loop\n",
    "if number == guess_me:\n",
    "    print('found it!')\n"
   ]
  },
  {
   "cell_type": "code",
   "execution_count": 7,
   "metadata": {},
   "outputs": [
    {
     "name": "stdout",
     "output_type": "stream",
     "text": [
      "too low\n",
      "too low\n",
      "too low\n",
      "too low\n",
      "too low\n",
      "found it!\n"
     ]
    }
   ],
   "source": [
    "#6.3: \n",
    "#Assign the value 5 to guess_me\n",
    "guess_me = 5\n",
    "\n",
    "#Use a for loop to iterate over a range of numbers from 0 to 9\n",
    "for number in range(10):\n",
    "    if number < guess_me:\n",
    "        print('too low')\n",
    "    elif number == guess_me:\n",
    "        print('found it!')\n",
    "        #Exit the loop when the number is equal to guess_me\n",
    "        break  \n",
    "    else:\n",
    "        print('oops')\n",
    "        #Exit the loop if the number is greater than guess_me\n",
    "        break  \n"
   ]
  }
 ],
 "metadata": {
  "kernelspec": {
   "display_name": "Python 3",
   "language": "python",
   "name": "python3"
  },
  "language_info": {
   "codemirror_mode": {
    "name": "ipython",
    "version": 3
   },
   "file_extension": ".py",
   "mimetype": "text/x-python",
   "name": "python",
   "nbconvert_exporter": "python",
   "pygments_lexer": "ipython3",
   "version": "3.13.0"
  }
 },
 "nbformat": 4,
 "nbformat_minor": 2
}
